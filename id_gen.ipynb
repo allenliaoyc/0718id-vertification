{
 "cells": [
  {
   "cell_type": "code",
   "execution_count": 13,
   "metadata": {},
   "outputs": [],
   "source": [
    "# rname==台北市\n",
    "# rcode==A\n",
    "# rvalue = 10\n",
    "import random\n",
    "\n",
    "weight=[1,9,8,7,6,5,4,3,2,1,1]\n",
    "region_table={\n",
    "    #key:value\n",
    "    'A':10,'B':11,'C':12,'D':13,\n",
    "    'E':14,'F':15,'G':16,'H':17,\n",
    "    'I':34,'J':18,'K':19,'M':21,\n",
    "    'N':22,'O':35,'P':23,'Q':24,\n",
    "    'T':27,'U':28,'V':29,'W':32,\n",
    "    'X':30,'Z':33,\n",
    "}\n",
    "\n",
    "region_name_table={\n",
    "    '台北市':'A','台中市':'B','基隆市':'C','台南市':'D',\n",
    "    '高雄市':'E','新北市':'F','宜蘭縣':'G','桃園市':'H',\n",
    "    '嘉義市':'I','新竹縣':'J','苗栗縣':'K','南投縣':'M',\n",
    "    '彰化縣':'N','新竹市':'O','雲林縣':'P','嘉義縣':'Q',\n",
    "    '屏東縣':'T','花蓮縣':'U','台東縣':'V','金門縣':'W',\n",
    "    '澎湖縣':'X','連江縣':'Z'\n",
    "}\n",
    "\n",
    "#gender = 1\n",
    "#region_name = '台北市'"
   ]
  },
  {
   "cell_type": "code",
   "execution_count": 36,
   "metadata": {},
   "outputs": [],
   "source": [
    "def get_first_region_value(rcode):\n",
    "    v= rcode//10\n",
    "    return v\n",
    "\n",
    "def get_second_region_value(rcode):\n",
    "    v = rcode%10\n",
    "    return v\n",
    "\n",
    "def get_region_code_by_name(region_name):\n",
    "    '''\n",
    "    給定一個地區名，回傳地區代碼\n",
    "    ex. region_name = '台北市' -> return 'A'\n",
    "    param:\n",
    "        region_name: str, the name of a region. ex. '台北市'\n",
    "    return:\n",
    "        region_code: str, the region code of the given region name. ex. 'A'\n",
    "    '''\n",
    "    return region_name_table[region_name]\n",
    "\n",
    "def get_region_value_by_name(region_name):\n",
    "    '''\n",
    "    給定一個地區名，回傳地區值\n",
    "    ex. region_name = '台北市' -> return 10\n",
    "    param:\n",
    "        region_name: str, the name of a region. ex. '台北市'\n",
    "    return:\n",
    "        region_value: int, the region value of the given region name. ex. 10\n",
    "    '''\n",
    "    rcode = get_region_code_by_name(region_name)\n",
    "    return region_table[rcode]\n",
    "\n",
    "def get_id_weight_sum(id_buf):\n",
    "    '''\n",
    "    給定一個身分證字號，回傳身分證字號加總值\n",
    "    ex. id = 'A123456789' -> return 10*1+1*2+2*3+3*4+4*5+5*6+6*7+7*8+8*9+9*1+10*1 = 385\n",
    "    param:\n",
    "        id: str, the id of a person. ex. 'A123456789'\n",
    "    return:\n",
    "        weight_sum: int, the sum of the weight of the given id. ex. 385\n",
    "    '''\n",
    "    id_sum = 0\n",
    "    for i in range(len(id_buf)):\n",
    "        id_sum = id_sum + id_buf[i]*weight[i]\n",
    "    return id_sum\n",
    "\n",
    "def get_id(id_buf,region_name):\n",
    "    id=''\n",
    "    id=id + region_name\n",
    "    for  i in range(2,11):\n",
    "        id = id + str(id_buf[i])\n",
    "    return id"
   ]
  },
  {
   "cell_type": "code",
   "execution_count": 16,
   "metadata": {},
   "outputs": [],
   "source": [
    "#get_region_value_by_name('台北市')"
   ]
  },
  {
   "cell_type": "code",
   "execution_count": 17,
   "metadata": {},
   "outputs": [],
   "source": [
    "# rcode = get_region_code_by_name('新北市')\n",
    "# rvalue = get_region_value_by_name('新北市')\n",
    "# r1=get_first_region_value(rvalue)\n",
    "# r2=get_second_region_value(rvalue)\n",
    "# #print(table)\n",
    "# print(rcode)\n",
    "# print(r1,r2)\n"
   ]
  },
  {
   "cell_type": "code",
   "execution_count": 18,
   "metadata": {},
   "outputs": [],
   "source": [
    "# id_buf=[0]*11\n",
    "# rvalue = get_region_value_by_name(region_name)\n",
    "# id_buf[0]=get_first_region_value(rvalue)\n",
    "# id_buf[1]=get_second_region_value(rvalue)\n",
    "# #gender value\n",
    "# id_buf[2]=gender\n",
    "# print(id_buf)"
   ]
  },
  {
   "cell_type": "code",
   "execution_count": 19,
   "metadata": {},
   "outputs": [],
   "source": [
    "\n",
    "# #random.randint(0,9)\n",
    "\n",
    "# for i in range(3,10):\n",
    "#     id_buf[i]=random.randint(0,9)\n",
    "# print(id_buf)"
   ]
  },
  {
   "cell_type": "code",
   "execution_count": 20,
   "metadata": {},
   "outputs": [],
   "source": [
    "# id_sum=0\n",
    "# print(id_buf)\n",
    "# print(weight)\n",
    "# id_sum = get_id_weight_sum(id_buf)\n",
    "\n",
    "# print(id_sum)"
   ]
  },
  {
   "cell_type": "code",
   "execution_count": 25,
   "metadata": {},
   "outputs": [],
   "source": [
    "# print(id_sum%10)"
   ]
  },
  {
   "cell_type": "code",
   "execution_count": 22,
   "metadata": {},
   "outputs": [],
   "source": [
    "# if id_sum%10==0:\n",
    "#     id_buf[10]=0\n",
    "# else:\n",
    "#     id_buf[10]=10-(id_sum%10)\n",
    "# print(id_buf)"
   ]
  },
  {
   "cell_type": "code",
   "execution_count": 23,
   "metadata": {},
   "outputs": [],
   "source": [
    "# fake_id=get_id(id_buf,region_name)\n",
    "# print(fake_id)\n"
   ]
  },
  {
   "cell_type": "code",
   "execution_count": 40,
   "metadata": {},
   "outputs": [
    {
     "data": {
      "text/plain": [
       "'新北市140540230'"
      ]
     },
     "execution_count": 40,
     "metadata": {},
     "output_type": "execute_result"
    }
   ],
   "source": [
    "def generate_fake_id(region_name,gender):\n",
    "    id_buf=[0]*11\n",
    "    rvalue = get_region_value_by_name(region_name)\n",
    "    id_buf[0]=get_first_region_value(rvalue)\n",
    "    id_buf[1]=get_second_region_value(rvalue)\n",
    "    #gender value\n",
    "    id_buf[2]=gender\n",
    "    for i in range(3,10):\n",
    "        id_buf[i]=random.randint(0,9)\n",
    "    id_sum = get_id_weight_sum(id_buf)\n",
    "    #generate the last digit\n",
    "    if id_sum%10==0:\n",
    "        id_buf[10]=0\n",
    "    else:\n",
    "        id_buf[10]=10-(id_sum%10)\n",
    "    fake_id=get_id(id_buf,region_name)\n",
    "    return fake_id\n",
    "\n",
    "generate_fake_id('新北市',1)\n"
   ]
  }
 ],
 "metadata": {
  "kernelspec": {
   "display_name": "base",
   "language": "python",
   "name": "python3"
  },
  "language_info": {
   "codemirror_mode": {
    "name": "ipython",
    "version": 3
   },
   "file_extension": ".py",
   "mimetype": "text/x-python",
   "name": "python",
   "nbconvert_exporter": "python",
   "pygments_lexer": "ipython3",
   "version": "3.9.12"
  },
  "orig_nbformat": 4
 },
 "nbformat": 4,
 "nbformat_minor": 2
}
