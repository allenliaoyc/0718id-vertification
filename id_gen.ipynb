{
 "cells": [
  {
   "cell_type": "code",
   "execution_count": 24,
   "metadata": {},
   "outputs": [],
   "source": [
    "weight=[1,9,8,7,6,5,4,3,2,1,1]\n",
    "region_table={\n",
    "    #key:value\n",
    "    'A':10,'B':11,'C':12,'D':13,\n",
    "    'E':14,'F':15,'G':16,'H':17,\n",
    "    'I':34,'J':18,'K':19,'M':21,\n",
    "    'N':22,'O':35,'P':23,'Q':24,\n",
    "    'T':27,'U':28,'V':29,'W':32,\n",
    "    'X':30,'Z':33,\n",
    "}\n",
    "\n",
    "gender = 1\n",
    "region_name = '台北市'"
   ]
  },
  {
   "cell_type": "code",
   "execution_count": 25,
   "metadata": {},
   "outputs": [],
   "source": [
    "region_name_table={\n",
    "    '台北市':'A','台中市':'B','基隆市':'C','台南市':'D',\n",
    "    '高雄市':'E','新北市':'F','宜蘭縣':'G','桃園市':'H',\n",
    "    '嘉義市':'I','新竹縣':'J','苗栗縣':'K','南投縣':'M',\n",
    "    '彰化縣':'N','新竹市':'O','雲林縣':'P','嘉義縣':'Q',\n",
    "    '屏東縣':'T','花蓮縣':'U','台東縣':'V','金門縣':'W',\n",
    "    '澎湖縣':'X','連江縣':'Z'\n",
    "}"
   ]
  },
  {
   "cell_type": "code",
   "execution_count": 26,
   "metadata": {},
   "outputs": [
    {
     "name": "stdout",
     "output_type": "stream",
     "text": [
      "A\n"
     ]
    }
   ],
   "source": [
    "print(region_name_table[region_name])\n"
   ]
  },
  {
   "cell_type": "code",
   "execution_count": 28,
   "metadata": {},
   "outputs": [
    {
     "name": "stdout",
     "output_type": "stream",
     "text": [
      "[1, 0, 1, 0, 0, 0, 0, 0, 0, 0, 0]\n"
     ]
    }
   ],
   "source": [
    "id_buf=[0]*11\n",
    "rcode=region_name_table[region_name]\n",
    "#ootput=='A'\n",
    "id_buf[0]=region_table[rcode[0]]//10\n",
    "id_buf[1]=region_table[rcode[0]]%10\n",
    "#gender value\n",
    "id_buf[2]=gender\n",
    "print(id_buf)"
   ]
  },
  {
   "cell_type": "code",
   "execution_count": null,
   "metadata": {},
   "outputs": [],
   "source": [
    "import random\n",
    "random.randint(0,9)"
   ]
  }
 ],
 "metadata": {
  "kernelspec": {
   "display_name": "base",
   "language": "python",
   "name": "python3"
  },
  "language_info": {
   "codemirror_mode": {
    "name": "ipython",
    "version": 3
   },
   "file_extension": ".py",
   "mimetype": "text/x-python",
   "name": "python",
   "nbconvert_exporter": "python",
   "pygments_lexer": "ipython3",
   "version": "3.9.12"
  },
  "orig_nbformat": 4
 },
 "nbformat": 4,
 "nbformat_minor": 2
}
