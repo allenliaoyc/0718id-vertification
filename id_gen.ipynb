{
 "cells": [
  {
   "cell_type": "code",
   "execution_count": null,
   "metadata": {},
   "outputs": [],
   "source": [
    "weight=[1,9,8,7,6,5,4,3,2,1,1]\n",
    "region_table={\n",
    "    #key:value\n",
    "    'A':10,'B':11,'C':12,'D':13,\n",
    "    'E':14,'F':15,'G':16,'H':17,\n",
    "    'I':34,'J':18,'K':19,'M':21,\n",
    "    'N':22,'O':35,'P':23,'Q':24,\n",
    "    'T':27,'U':28,'V':29,'W':32,\n",
    "    'X':30,'Z':33,\n",
    "}\n",
    "\n",
    "gender = 1"
   ]
  },
  {
   "cell_type": "code",
   "execution_count": null,
   "metadata": {},
   "outputs": [],
   "source": [
    "region_name_table={\n",
    "    '台北市':'A','台中市':'B','基隆市':'C','台南市':'D',\n",
    "    '高雄市':'E','新北市':'F','宜蘭縣':'G','桃園市':'H',\n",
    "    '嘉義市':'I','新竹縣':'J','苗栗縣':'K','南投縣':'M',\n",
    "    '彰化縣':'N','新竹市':'O','雲林縣':'P','嘉義縣':'Q',\n",
    "    '屏東縣':'T','花蓮縣':'U','台東縣':'V','金門縣':'W',\n",
    "    '澎湖縣':'X','連江縣':'Z'\n",
    "}"
   ]
  }
 ],
 "metadata": {
  "language_info": {
   "name": "python"
  },
  "orig_nbformat": 4
 },
 "nbformat": 4,
 "nbformat_minor": 2
}
