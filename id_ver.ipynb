{
 "cells": [
  {
   "cell_type": "code",
   "execution_count": 1,
   "metadata": {},
   "outputs": [
    {
     "name": "stdout",
     "output_type": "stream",
     "text": [
      "A181462429\n"
     ]
    }
   ],
   "source": [
    "input_id=input('輸入身分證字號:')\n",
    "\n",
    "#input_id = 'Q238927307'\n",
    "\n",
    "input_id = input_id[0].upper() + input_id[1:]\n",
    "\n",
    "print(input_id)\n"
   ]
  },
  {
   "cell_type": "code",
   "execution_count": 2,
   "metadata": {},
   "outputs": [
    {
     "name": "stdout",
     "output_type": "stream",
     "text": [
      "A181462429 輸入正確\n"
     ]
    }
   ],
   "source": [
    "import sys\n",
    "\n",
    "if input_id[0] not in ['L', 'R', 'S', 'Y']:\n",
    "    if input_id[0].isalpha() and input_id[1:].isdigit():\n",
    "        if len(input_id) == 10:\n",
    "            print(input_id,'輸入正確')\n",
    "            if input_id[1] not in ['1', '2']:\n",
    "                print(input_id,'輸入錯誤，第二碼須為1或2，程式結束')\n",
    "                sys.exit()\n",
    "        else:\n",
    "            print(input_id,'輸入錯誤，須為10碼，程式結束')\n",
    "            sys.exit() \n",
    "    else:\n",
    "        print(input_id,'輸入錯誤，請依照字首為英文字母及九個阿拉伯數字所組成，程式結束')\n",
    "        sys.exit()\n",
    "else:\n",
    "    print('輸入錯誤，L、R、S、Y已註銷，程式結束')\n",
    "    sys.exit()"
   ]
  },
  {
   "cell_type": "code",
   "execution_count": 3,
   "metadata": {},
   "outputs": [],
   "source": [
    "# if input_id[0]!=['L','R','S','Y']:\n",
    "#     print('輸入錯誤')\n",
    "# else:\n",
    "#     print('輸入正確')"
   ]
  },
  {
   "cell_type": "code",
   "execution_count": 4,
   "metadata": {},
   "outputs": [],
   "source": [
    "#取的第一個字元(0)\n",
    "# print(input_id[0])\n",
    "#取得input_id的長度\n",
    "# print(len(input_id))"
   ]
  },
  {
   "cell_type": "code",
   "execution_count": 5,
   "metadata": {},
   "outputs": [
    {
     "name": "stdout",
     "output_type": "stream",
     "text": [
      "0 A\n",
      "1 1\n",
      "2 8\n",
      "3 1\n",
      "4 4\n",
      "5 6\n",
      "6 2\n",
      "7 4\n",
      "8 2\n",
      "9 9\n"
     ]
    }
   ],
   "source": [
    "#input_id=int(input_id)\n",
    "# print(type(input_id))\n",
    "\n",
    "# v=int(input_id[1])\n",
    "# print(v+5)\n",
    "for i in range(len(input_id)):\n",
    "    print(i,input_id[i])\n",
    "\n"
   ]
  },
  {
   "cell_type": "code",
   "execution_count": 6,
   "metadata": {},
   "outputs": [
    {
     "name": "stdout",
     "output_type": "stream",
     "text": [
      "<class 'list'>\n",
      "[1, 9, 8, 7, 6, 5, 4, 3, 2, 1, 1]\n",
      "11\n",
      "1 9 8\n"
     ]
    }
   ],
   "source": [
    "#使用list\n",
    "weight=[1,9,8,7,6,5,4,3,2,1,1]\n",
    "print(type(weight))\n",
    "print(weight)\n",
    "print(len(weight))\n",
    "print(weight[0],weight[1],weight[2])"
   ]
  },
  {
   "cell_type": "code",
   "execution_count": 7,
   "metadata": {},
   "outputs": [
    {
     "name": "stdout",
     "output_type": "stream",
     "text": [
      "1\n",
      "9\n",
      "8\n",
      "7\n",
      "6\n",
      "5\n",
      "4\n",
      "3\n",
      "2\n",
      "1\n",
      "1\n"
     ]
    }
   ],
   "source": [
    "for i in range(len(weight)):\n",
    "    print(weight[i])"
   ]
  },
  {
   "cell_type": "code",
   "execution_count": 8,
   "metadata": {},
   "outputs": [
    {
     "name": "stdout",
     "output_type": "stream",
     "text": [
      "<class 'dict'>\n"
     ]
    }
   ],
   "source": [
    "#地區對照表\n",
    "#使用Dict來對應地區的權重對照表\n",
    "region_table={\n",
    "    #key:value\n",
    "    'A':10,'B':11,'C':12,'D':13,\n",
    "    'E':14,'F':15,'G':16,'H':17,\n",
    "    'I':34,'J':18,'K':19,'M':21,\n",
    "    'N':22,'O':35,'P':23,'Q':24,\n",
    "    'T':27,'U':28,'V':29,'W':32,\n",
    "    'X':30,'Z':33,\n",
    "}\n",
    "print(type(region_table))\n",
    "# print(region_table)"
   ]
  },
  {
   "cell_type": "code",
   "execution_count": 9,
   "metadata": {},
   "outputs": [
    {
     "name": "stdout",
     "output_type": "stream",
     "text": [
      "A 10\n",
      "B 11\n",
      "C 12\n",
      "D 13\n",
      "E 14\n",
      "F 15\n",
      "G 16\n",
      "H 17\n",
      "I 34\n",
      "J 18\n",
      "K 19\n",
      "M 21\n",
      "N 22\n",
      "O 35\n",
      "P 23\n",
      "Q 24\n",
      "T 27\n",
      "U 28\n",
      "V 29\n",
      "W 32\n",
      "X 30\n",
      "Z 33\n"
     ]
    }
   ],
   "source": [
    "for k,v in region_table.items():\n",
    "    print(k,v)"
   ]
  },
  {
   "cell_type": "code",
   "execution_count": 10,
   "metadata": {},
   "outputs": [
    {
     "name": "stdout",
     "output_type": "stream",
     "text": [
      "[0, 0, 0, 0, 0, 0, 0, 0, 0, 0, 0]\n",
      "11\n"
     ]
    }
   ],
   "source": [
    "#驗證身分證字號\n",
    "#1.將英文轉換為對應的數字\n",
    "#2.將數字與對應的權重相乘\n",
    "#3.將相乘的結果相加\n",
    "#4.將相加的結果除以10,取餘數\n",
    "#5.將餘數與身分證字號的最後一碼比對,若相同則為正確,否則為錯誤\n",
    "id_buf=[0]*11\n",
    "print(id_buf)\n",
    "print(len(id_buf)) "
   ]
  },
  {
   "cell_type": "code",
   "execution_count": 11,
   "metadata": {},
   "outputs": [
    {
     "name": "stdout",
     "output_type": "stream",
     "text": [
      "10\n",
      "1\n",
      "0\n"
     ]
    },
    {
     "data": {
      "text/plain": [
       "[1, 0, 0, 0, 0, 0, 0, 0, 0, 0, 0]"
      ]
     },
     "execution_count": 11,
     "metadata": {},
     "output_type": "execute_result"
    }
   ],
   "source": [
    "# region code\n",
    "\n",
    "print(region_table[input_id[0]])\n",
    "r1=region_table[input_id[0]]//10\n",
    "r2=region_table[input_id[0]]%10\n",
    "print(r1)\n",
    "print(r2)\n",
    "id_buf[0]=r1\n",
    "id_buf[1]=r2\n",
    "id_buf"
   ]
  },
  {
   "cell_type": "code",
   "execution_count": 12,
   "metadata": {},
   "outputs": [
    {
     "data": {
      "text/plain": [
       "[1, 0, 1, 8, 1, 4, 6, 2, 4, 2, 9]"
      ]
     },
     "execution_count": 12,
     "metadata": {},
     "output_type": "execute_result"
    }
   ],
   "source": [
    "#性別\n",
    "id_buf[2]=int(input_id[1])\n",
    "id_buf\n",
    "for i in range(2,len(input_id)):\n",
    "    id_buf[i+1]=int(input_id[i])\n",
    "\n",
    "id_buf"
   ]
  },
  {
   "cell_type": "code",
   "execution_count": 13,
   "metadata": {},
   "outputs": [
    {
     "name": "stdout",
     "output_type": "stream",
     "text": [
      "140\n"
     ]
    }
   ],
   "source": [
    "id_sum=0\n",
    "for i in range(len(id_buf)):\n",
    "    id_sum=id_sum+id_buf[i]*weight[i]\n",
    "\n",
    "print(id_sum)\n"
   ]
  },
  {
   "cell_type": "code",
   "execution_count": 14,
   "metadata": {},
   "outputs": [
    {
     "name": "stdout",
     "output_type": "stream",
     "text": [
      "正確 A181462429\n"
     ]
    }
   ],
   "source": [
    "if id_sum%10==0:\n",
    "    print('正確',input_id)\n",
    "else:\n",
    "    print('錯誤',input_id)"
   ]
  }
 ],
 "metadata": {
  "kernelspec": {
   "display_name": "base",
   "language": "python",
   "name": "python3"
  },
  "language_info": {
   "codemirror_mode": {
    "name": "ipython",
    "version": 3
   },
   "file_extension": ".py",
   "mimetype": "text/x-python",
   "name": "python",
   "nbconvert_exporter": "python",
   "pygments_lexer": "ipython3",
   "version": "3.9.12"
  },
  "orig_nbformat": 4
 },
 "nbformat": 4,
 "nbformat_minor": 2
}
